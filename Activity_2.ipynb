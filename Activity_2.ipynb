{
 "cells": [
  {
   "cell_type": "markdown",
   "id": "cb429cc3-63cc-4640-9732-7773c88c2497",
   "metadata": {},
   "source": [
    "<H1>PROJECT: UK Road Accidents</H1>"
   ]
  },
  {
   "cell_type": "markdown",
   "id": "edd372e1-1e5b-426e-8839-233736b93e9f",
   "metadata": {},
   "source": [
    "<h2>Analyst: Ramos, Alyssa Sophia A.</h2>"
   ]
  },
  {
   "cell_type": "code",
   "execution_count": 3,
   "id": "dfe6a232-da74-4e21-a47b-87fc5ebede2f",
   "metadata": {},
   "outputs": [],
   "source": [
    "import numpy as np\n",
    "import pandas as pd\n",
    "import warnings\n",
    "warnings.filterwarnings('ignore')"
   ]
  },
  {
   "cell_type": "code",
   "execution_count": 5,
   "id": "42fbcde0-de16-4771-b79f-a36d47332bc3",
   "metadata": {},
   "outputs": [],
   "source": [
    "accidents= pd.read_csv(\"uk_datasets\\\\accident_data.csv\")"
   ]
  },
  {
   "cell_type": "code",
   "execution_count": 6,
   "id": "837694c5-82c1-42a5-8605-041a72568f01",
   "metadata": {},
   "outputs": [
    {
     "data": {
      "text/html": [
       "<div>\n",
       "<style scoped>\n",
       "    .dataframe tbody tr th:only-of-type {\n",
       "        vertical-align: middle;\n",
       "    }\n",
       "\n",
       "    .dataframe tbody tr th {\n",
       "        vertical-align: top;\n",
       "    }\n",
       "\n",
       "    .dataframe thead th {\n",
       "        text-align: right;\n",
       "    }\n",
       "</style>\n",
       "<table border=\"1\" class=\"dataframe\">\n",
       "  <thead>\n",
       "    <tr style=\"text-align: right;\">\n",
       "      <th></th>\n",
       "      <th>Index</th>\n",
       "      <th>Accident_Severity</th>\n",
       "      <th>Accident Date</th>\n",
       "      <th>Latitude</th>\n",
       "      <th>Light_Conditions</th>\n",
       "      <th>District Area</th>\n",
       "      <th>Longitude</th>\n",
       "      <th>Number_of_Casualties</th>\n",
       "      <th>Number_of_Vehicles</th>\n",
       "      <th>Road_Surface_Conditions</th>\n",
       "      <th>Road_Type</th>\n",
       "      <th>Urban_or_Rural_Area</th>\n",
       "      <th>Weather_Conditions</th>\n",
       "      <th>Vehicle_Type</th>\n",
       "    </tr>\n",
       "  </thead>\n",
       "  <tbody>\n",
       "    <tr>\n",
       "      <th>0</th>\n",
       "      <td>200701BS64157</td>\n",
       "      <td>Serious</td>\n",
       "      <td>05/06/2019</td>\n",
       "      <td>51.506187</td>\n",
       "      <td>Darkness - lights lit</td>\n",
       "      <td>Kensington and Chelsea</td>\n",
       "      <td>-0.209082</td>\n",
       "      <td>1</td>\n",
       "      <td>2</td>\n",
       "      <td>Dry</td>\n",
       "      <td>Single carriageway</td>\n",
       "      <td>Urban</td>\n",
       "      <td>Fine no high winds</td>\n",
       "      <td>Car</td>\n",
       "    </tr>\n",
       "    <tr>\n",
       "      <th>1</th>\n",
       "      <td>200701BS65737</td>\n",
       "      <td>Serious</td>\n",
       "      <td>02/07/2019</td>\n",
       "      <td>51.495029</td>\n",
       "      <td>Daylight</td>\n",
       "      <td>Kensington and Chelsea</td>\n",
       "      <td>-0.173647</td>\n",
       "      <td>1</td>\n",
       "      <td>2</td>\n",
       "      <td>Wet or damp</td>\n",
       "      <td>Single carriageway</td>\n",
       "      <td>Urban</td>\n",
       "      <td>Raining no high winds</td>\n",
       "      <td>Car</td>\n",
       "    </tr>\n",
       "    <tr>\n",
       "      <th>2</th>\n",
       "      <td>200701BS66127</td>\n",
       "      <td>Serious</td>\n",
       "      <td>26/08/2019</td>\n",
       "      <td>51.517715</td>\n",
       "      <td>Darkness - lighting unknown</td>\n",
       "      <td>Kensington and Chelsea</td>\n",
       "      <td>-0.210215</td>\n",
       "      <td>1</td>\n",
       "      <td>3</td>\n",
       "      <td>Dry</td>\n",
       "      <td>NaN</td>\n",
       "      <td>Urban</td>\n",
       "      <td>NaN</td>\n",
       "      <td>Taxi/Private hire car</td>\n",
       "    </tr>\n",
       "    <tr>\n",
       "      <th>3</th>\n",
       "      <td>200701BS66128</td>\n",
       "      <td>Serious</td>\n",
       "      <td>16/08/2019</td>\n",
       "      <td>51.495478</td>\n",
       "      <td>Daylight</td>\n",
       "      <td>Kensington and Chelsea</td>\n",
       "      <td>-0.202731</td>\n",
       "      <td>1</td>\n",
       "      <td>4</td>\n",
       "      <td>Dry</td>\n",
       "      <td>Single carriageway</td>\n",
       "      <td>Urban</td>\n",
       "      <td>Fine no high winds</td>\n",
       "      <td>Bus or coach (17 or more pass seats)</td>\n",
       "    </tr>\n",
       "    <tr>\n",
       "      <th>4</th>\n",
       "      <td>200701BS66837</td>\n",
       "      <td>Slight</td>\n",
       "      <td>03/09/2019</td>\n",
       "      <td>51.488576</td>\n",
       "      <td>Darkness - lights lit</td>\n",
       "      <td>Kensington and Chelsea</td>\n",
       "      <td>-0.192487</td>\n",
       "      <td>1</td>\n",
       "      <td>2</td>\n",
       "      <td>Dry</td>\n",
       "      <td>NaN</td>\n",
       "      <td>Urban</td>\n",
       "      <td>NaN</td>\n",
       "      <td>Other vehicle</td>\n",
       "    </tr>\n",
       "    <tr>\n",
       "      <th>...</th>\n",
       "      <td>...</td>\n",
       "      <td>...</td>\n",
       "      <td>...</td>\n",
       "      <td>...</td>\n",
       "      <td>...</td>\n",
       "      <td>...</td>\n",
       "      <td>...</td>\n",
       "      <td>...</td>\n",
       "      <td>...</td>\n",
       "      <td>...</td>\n",
       "      <td>...</td>\n",
       "      <td>...</td>\n",
       "      <td>...</td>\n",
       "      <td>...</td>\n",
       "    </tr>\n",
       "    <tr>\n",
       "      <th>660674</th>\n",
       "      <td>201091NM01760</td>\n",
       "      <td>Slight</td>\n",
       "      <td>18/02/2022</td>\n",
       "      <td>57.374005</td>\n",
       "      <td>Daylight</td>\n",
       "      <td>Highland</td>\n",
       "      <td>-3.467828</td>\n",
       "      <td>2</td>\n",
       "      <td>1</td>\n",
       "      <td>Dry</td>\n",
       "      <td>Single carriageway</td>\n",
       "      <td>Rural</td>\n",
       "      <td>Fine no high winds</td>\n",
       "      <td>Car</td>\n",
       "    </tr>\n",
       "    <tr>\n",
       "      <th>660675</th>\n",
       "      <td>201091NM01881</td>\n",
       "      <td>Slight</td>\n",
       "      <td>21/02/2022</td>\n",
       "      <td>57.232273</td>\n",
       "      <td>Darkness - no lighting</td>\n",
       "      <td>Highland</td>\n",
       "      <td>-3.809281</td>\n",
       "      <td>1</td>\n",
       "      <td>1</td>\n",
       "      <td>Frost or ice</td>\n",
       "      <td>Single carriageway</td>\n",
       "      <td>Rural</td>\n",
       "      <td>Fine no high winds</td>\n",
       "      <td>Car</td>\n",
       "    </tr>\n",
       "    <tr>\n",
       "      <th>660676</th>\n",
       "      <td>201091NM01935</td>\n",
       "      <td>Slight</td>\n",
       "      <td>23/02/2022</td>\n",
       "      <td>57.585044</td>\n",
       "      <td>Daylight</td>\n",
       "      <td>Highland</td>\n",
       "      <td>-3.862727</td>\n",
       "      <td>1</td>\n",
       "      <td>3</td>\n",
       "      <td>Frost or ice</td>\n",
       "      <td>Single carriageway</td>\n",
       "      <td>Rural</td>\n",
       "      <td>Fine no high winds</td>\n",
       "      <td>Car</td>\n",
       "    </tr>\n",
       "    <tr>\n",
       "      <th>660677</th>\n",
       "      <td>201091NM01964</td>\n",
       "      <td>Serious</td>\n",
       "      <td>23/02/2022</td>\n",
       "      <td>57.214898</td>\n",
       "      <td>Darkness - no lighting</td>\n",
       "      <td>Highland</td>\n",
       "      <td>-3.823997</td>\n",
       "      <td>1</td>\n",
       "      <td>2</td>\n",
       "      <td>Wet or damp</td>\n",
       "      <td>Single carriageway</td>\n",
       "      <td>Rural</td>\n",
       "      <td>Fine no high winds</td>\n",
       "      <td>Motorcycle over 500cc</td>\n",
       "    </tr>\n",
       "    <tr>\n",
       "      <th>660678</th>\n",
       "      <td>201091NM02142</td>\n",
       "      <td>Serious</td>\n",
       "      <td>28/02/2022</td>\n",
       "      <td>57.575210</td>\n",
       "      <td>Daylight</td>\n",
       "      <td>Highland</td>\n",
       "      <td>-3.895673</td>\n",
       "      <td>1</td>\n",
       "      <td>1</td>\n",
       "      <td>Wet or damp</td>\n",
       "      <td>Dual carriageway</td>\n",
       "      <td>Rural</td>\n",
       "      <td>Snowing no high winds</td>\n",
       "      <td>Car</td>\n",
       "    </tr>\n",
       "  </tbody>\n",
       "</table>\n",
       "<p>660679 rows × 14 columns</p>\n",
       "</div>"
      ],
      "text/plain": [
       "                Index Accident_Severity Accident Date   Latitude  \\\n",
       "0       200701BS64157           Serious    05/06/2019  51.506187   \n",
       "1       200701BS65737           Serious    02/07/2019  51.495029   \n",
       "2       200701BS66127           Serious    26/08/2019  51.517715   \n",
       "3       200701BS66128           Serious    16/08/2019  51.495478   \n",
       "4       200701BS66837            Slight    03/09/2019  51.488576   \n",
       "...               ...               ...           ...        ...   \n",
       "660674  201091NM01760            Slight    18/02/2022  57.374005   \n",
       "660675  201091NM01881            Slight    21/02/2022  57.232273   \n",
       "660676  201091NM01935            Slight    23/02/2022  57.585044   \n",
       "660677  201091NM01964           Serious    23/02/2022  57.214898   \n",
       "660678  201091NM02142           Serious    28/02/2022  57.575210   \n",
       "\n",
       "                   Light_Conditions           District Area  Longitude  \\\n",
       "0             Darkness - lights lit  Kensington and Chelsea  -0.209082   \n",
       "1                          Daylight  Kensington and Chelsea  -0.173647   \n",
       "2       Darkness - lighting unknown  Kensington and Chelsea  -0.210215   \n",
       "3                          Daylight  Kensington and Chelsea  -0.202731   \n",
       "4             Darkness - lights lit  Kensington and Chelsea  -0.192487   \n",
       "...                             ...                     ...        ...   \n",
       "660674                     Daylight                Highland  -3.467828   \n",
       "660675       Darkness - no lighting                Highland  -3.809281   \n",
       "660676                     Daylight                Highland  -3.862727   \n",
       "660677       Darkness - no lighting                Highland  -3.823997   \n",
       "660678                     Daylight                Highland  -3.895673   \n",
       "\n",
       "        Number_of_Casualties  Number_of_Vehicles Road_Surface_Conditions  \\\n",
       "0                          1                   2                     Dry   \n",
       "1                          1                   2             Wet or damp   \n",
       "2                          1                   3                     Dry   \n",
       "3                          1                   4                     Dry   \n",
       "4                          1                   2                     Dry   \n",
       "...                      ...                 ...                     ...   \n",
       "660674                     2                   1                     Dry   \n",
       "660675                     1                   1            Frost or ice   \n",
       "660676                     1                   3            Frost or ice   \n",
       "660677                     1                   2             Wet or damp   \n",
       "660678                     1                   1             Wet or damp   \n",
       "\n",
       "                 Road_Type Urban_or_Rural_Area     Weather_Conditions  \\\n",
       "0       Single carriageway               Urban     Fine no high winds   \n",
       "1       Single carriageway               Urban  Raining no high winds   \n",
       "2                      NaN               Urban                    NaN   \n",
       "3       Single carriageway               Urban     Fine no high winds   \n",
       "4                      NaN               Urban                    NaN   \n",
       "...                    ...                 ...                    ...   \n",
       "660674  Single carriageway               Rural     Fine no high winds   \n",
       "660675  Single carriageway               Rural     Fine no high winds   \n",
       "660676  Single carriageway               Rural     Fine no high winds   \n",
       "660677  Single carriageway               Rural     Fine no high winds   \n",
       "660678    Dual carriageway               Rural  Snowing no high winds   \n",
       "\n",
       "                                Vehicle_Type  \n",
       "0                                        Car  \n",
       "1                                        Car  \n",
       "2                      Taxi/Private hire car  \n",
       "3       Bus or coach (17 or more pass seats)  \n",
       "4                              Other vehicle  \n",
       "...                                      ...  \n",
       "660674                                   Car  \n",
       "660675                                   Car  \n",
       "660676                                   Car  \n",
       "660677                 Motorcycle over 500cc  \n",
       "660678                                   Car  \n",
       "\n",
       "[660679 rows x 14 columns]"
      ]
     },
     "execution_count": 6,
     "metadata": {},
     "output_type": "execute_result"
    }
   ],
   "source": [
    "accidents"
   ]
  },
  {
   "cell_type": "code",
   "execution_count": 7,
   "id": "2f1bff55-d497-4607-8330-4e41d6b30632",
   "metadata": {},
   "outputs": [
    {
     "data": {
      "text/plain": [
       "Index                          0\n",
       "Accident_Severity              0\n",
       "Accident Date                  0\n",
       "Latitude                      25\n",
       "Light_Conditions               0\n",
       "District Area                  0\n",
       "Longitude                     26\n",
       "Number_of_Casualties           0\n",
       "Number_of_Vehicles             0\n",
       "Road_Surface_Conditions      726\n",
       "Road_Type                   4520\n",
       "Urban_or_Rural_Area           15\n",
       "Weather_Conditions         14128\n",
       "Vehicle_Type                   0\n",
       "dtype: int64"
      ]
     },
     "execution_count": 7,
     "metadata": {},
     "output_type": "execute_result"
    }
   ],
   "source": [
    "accidents.isnull().sum()"
   ]
  },
  {
   "cell_type": "code",
   "execution_count": 8,
   "id": "03879bc1-70cb-4397-bf40-72436b4467af",
   "metadata": {},
   "outputs": [],
   "source": [
    "accidents['Latitude'] = accidents['Latitude'].fillna(accidents['Latitude'].mode()[0])\n",
    "accidents['Longitude'] = accidents['Longitude'].fillna(accidents['Longitude'].mode()[0])\n",
    "accidents['Road_Surface_Conditions'] = accidents['Road_Surface_Conditions'].fillna(accidents['Road_Surface_Conditions'].mode()[0])\n",
    "accidents['Urban_or_Rural_Area'] = accidents['Urban_or_Rural_Area'].fillna(accidents['Urban_or_Rural_Area'].mode()[0])\n",
    "accidents['Road_Type'] = accidents['Road_Type'].fillna(accidents['Road_Type'].mode()[0])\n",
    "accidents['Weather_Conditions'] = accidents['Weather_Conditions'].fillna(accidents['Weather_Conditions'].mode()[0])"
   ]
  },
  {
   "cell_type": "code",
   "execution_count": 9,
   "id": "dbe084ec-f046-4989-95c6-20d380d88271",
   "metadata": {},
   "outputs": [
    {
     "data": {
      "text/plain": [
       "Index                      0\n",
       "Accident_Severity          0\n",
       "Accident Date              0\n",
       "Latitude                   0\n",
       "Light_Conditions           0\n",
       "District Area              0\n",
       "Longitude                  0\n",
       "Number_of_Casualties       0\n",
       "Number_of_Vehicles         0\n",
       "Road_Surface_Conditions    0\n",
       "Road_Type                  0\n",
       "Urban_or_Rural_Area        0\n",
       "Weather_Conditions         0\n",
       "Vehicle_Type               0\n",
       "dtype: int64"
      ]
     },
     "execution_count": 9,
     "metadata": {},
     "output_type": "execute_result"
    }
   ],
   "source": [
    "accidents.isnull().sum()"
   ]
  },
  {
   "cell_type": "code",
   "execution_count": 10,
   "id": "9e09438d-6d4f-43a3-92ad-97988b8d2044",
   "metadata": {},
   "outputs": [
    {
     "data": {
      "text/plain": [
       "<bound method DataFrame.info of                 Index Accident_Severity Accident Date   Latitude  \\\n",
       "0       200701BS64157           Serious    05/06/2019  51.506187   \n",
       "1       200701BS65737           Serious    02/07/2019  51.495029   \n",
       "2       200701BS66127           Serious    26/08/2019  51.517715   \n",
       "3       200701BS66128           Serious    16/08/2019  51.495478   \n",
       "4       200701BS66837            Slight    03/09/2019  51.488576   \n",
       "...               ...               ...           ...        ...   \n",
       "660674  201091NM01760            Slight    18/02/2022  57.374005   \n",
       "660675  201091NM01881            Slight    21/02/2022  57.232273   \n",
       "660676  201091NM01935            Slight    23/02/2022  57.585044   \n",
       "660677  201091NM01964           Serious    23/02/2022  57.214898   \n",
       "660678  201091NM02142           Serious    28/02/2022  57.575210   \n",
       "\n",
       "                   Light_Conditions           District Area  Longitude  \\\n",
       "0             Darkness - lights lit  Kensington and Chelsea  -0.209082   \n",
       "1                          Daylight  Kensington and Chelsea  -0.173647   \n",
       "2       Darkness - lighting unknown  Kensington and Chelsea  -0.210215   \n",
       "3                          Daylight  Kensington and Chelsea  -0.202731   \n",
       "4             Darkness - lights lit  Kensington and Chelsea  -0.192487   \n",
       "...                             ...                     ...        ...   \n",
       "660674                     Daylight                Highland  -3.467828   \n",
       "660675       Darkness - no lighting                Highland  -3.809281   \n",
       "660676                     Daylight                Highland  -3.862727   \n",
       "660677       Darkness - no lighting                Highland  -3.823997   \n",
       "660678                     Daylight                Highland  -3.895673   \n",
       "\n",
       "        Number_of_Casualties  Number_of_Vehicles Road_Surface_Conditions  \\\n",
       "0                          1                   2                     Dry   \n",
       "1                          1                   2             Wet or damp   \n",
       "2                          1                   3                     Dry   \n",
       "3                          1                   4                     Dry   \n",
       "4                          1                   2                     Dry   \n",
       "...                      ...                 ...                     ...   \n",
       "660674                     2                   1                     Dry   \n",
       "660675                     1                   1            Frost or ice   \n",
       "660676                     1                   3            Frost or ice   \n",
       "660677                     1                   2             Wet or damp   \n",
       "660678                     1                   1             Wet or damp   \n",
       "\n",
       "                 Road_Type Urban_or_Rural_Area     Weather_Conditions  \\\n",
       "0       Single carriageway               Urban     Fine no high winds   \n",
       "1       Single carriageway               Urban  Raining no high winds   \n",
       "2       Single carriageway               Urban     Fine no high winds   \n",
       "3       Single carriageway               Urban     Fine no high winds   \n",
       "4       Single carriageway               Urban     Fine no high winds   \n",
       "...                    ...                 ...                    ...   \n",
       "660674  Single carriageway               Rural     Fine no high winds   \n",
       "660675  Single carriageway               Rural     Fine no high winds   \n",
       "660676  Single carriageway               Rural     Fine no high winds   \n",
       "660677  Single carriageway               Rural     Fine no high winds   \n",
       "660678    Dual carriageway               Rural  Snowing no high winds   \n",
       "\n",
       "                                Vehicle_Type  \n",
       "0                                        Car  \n",
       "1                                        Car  \n",
       "2                      Taxi/Private hire car  \n",
       "3       Bus or coach (17 or more pass seats)  \n",
       "4                              Other vehicle  \n",
       "...                                      ...  \n",
       "660674                                   Car  \n",
       "660675                                   Car  \n",
       "660676                                   Car  \n",
       "660677                 Motorcycle over 500cc  \n",
       "660678                                   Car  \n",
       "\n",
       "[660679 rows x 14 columns]>"
      ]
     },
     "execution_count": 10,
     "metadata": {},
     "output_type": "execute_result"
    }
   ],
   "source": [
    "accidents.info"
   ]
  },
  {
   "cell_type": "code",
   "execution_count": 11,
   "id": "d2df6cfa-76e3-4e5c-baa1-074dfd00f10e",
   "metadata": {},
   "outputs": [],
   "source": [
    "accidents['Accident Date'] = pd.to_datetime(accidents['Accident Date'], dayfirst = True, errors = \"coerce\")"
   ]
  },
  {
   "cell_type": "code",
   "execution_count": 12,
   "id": "8849d39e-0923-4b29-93c4-2177719f6b47",
   "metadata": {},
   "outputs": [
    {
     "data": {
      "text/plain": [
       "Index                              object\n",
       "Accident_Severity                  object\n",
       "Accident Date              datetime64[ns]\n",
       "Latitude                          float64\n",
       "Light_Conditions                   object\n",
       "District Area                      object\n",
       "Longitude                         float64\n",
       "Number_of_Casualties                int64\n",
       "Number_of_Vehicles                  int64\n",
       "Road_Surface_Conditions            object\n",
       "Road_Type                          object\n",
       "Urban_or_Rural_Area                object\n",
       "Weather_Conditions                 object\n",
       "Vehicle_Type                       object\n",
       "dtype: object"
      ]
     },
     "execution_count": 12,
     "metadata": {},
     "output_type": "execute_result"
    }
   ],
   "source": [
    "accidents.dtypes"
   ]
  },
  {
   "cell_type": "markdown",
   "id": "67eb42ec-f8e2-47d8-9f50-f23eaf38efbc",
   "metadata": {},
   "source": [
    "<h1>Extracting Date Information using Pandas Date Time</h1>"
   ]
  },
  {
   "cell_type": "code",
   "execution_count": 13,
   "id": "e2fbb941-0e22-490e-ae10-dd629ae3e332",
   "metadata": {},
   "outputs": [],
   "source": [
    "accidents['Year']= accidents ['Accident Date'].dt.year\n",
    "accidents['Month']= accidents ['Accident Date'].dt.month\n",
    "accidents['Day']= accidents ['Accident Date'].dt.day\n",
    "accidents['DayOfWeek']= accidents ['Accident Date'].dt.dayofweek"
   ]
  },
  {
   "cell_type": "markdown",
   "id": "ffeb2ccf-3919-4f44-9277-2e89602e49a4",
   "metadata": {},
   "source": [
    "<h1>Questions:</h1>"
   ]
  },
  {
   "cell_type": "markdown",
   "id": "6d632156-8bae-4ae1-8f85-67db2e8e64d2",
   "metadata": {},
   "source": [
    "<h1>1. Average number of vehicles involves per accident</h1>"
   ]
  },
  {
   "cell_type": "code",
   "execution_count": 14,
   "id": "fd980ebd-6df1-429d-a6db-af984f953904",
   "metadata": {},
   "outputs": [
    {
     "data": {
      "text/plain": [
       "np.float64(1.8312554205597575)"
      ]
     },
     "execution_count": 14,
     "metadata": {},
     "output_type": "execute_result"
    }
   ],
   "source": [
    "accidents[\"Number_of_Vehicles\"].mean()"
   ]
  },
  {
   "cell_type": "markdown",
   "id": "4f4554a9-f96c-4d20-9909-d9f9b995ba25",
   "metadata": {},
   "source": [
    "<h3>Insight:On average, around 2 vehicles are involved per accident. </h3>"
   ]
  },
  {
   "cell_type": "markdown",
   "id": "3cd220bf-a821-482b-8730-86c052fca2a2",
   "metadata": {},
   "source": [
    "<h1>2. How many accidents happened in urban vs rural areas?</h1>"
   ]
  },
  {
   "cell_type": "code",
   "execution_count": 15,
   "id": "74761ba5-559b-4e28-8a71-38eb4bddd069",
   "metadata": {},
   "outputs": [
    {
     "data": {
      "text/plain": [
       "Urban_or_Rural_Area\n",
       "Urban          421678\n",
       "Rural          238990\n",
       "Unallocated        11\n",
       "Name: count, dtype: int64"
      ]
     },
     "execution_count": 15,
     "metadata": {},
     "output_type": "execute_result"
    }
   ],
   "source": [
    "accidents['Urban_or_Rural_Area'].value_counts()"
   ]
  },
  {
   "cell_type": "markdown",
   "id": "6b710f70-960f-4958-b83b-2c791ff8c33d",
   "metadata": {},
   "source": [
    "<h3>Insight: Most accidents occur in urban areas compared to rural ones </h3>"
   ]
  },
  {
   "cell_type": "markdown",
   "id": "707796b3-831b-4689-a67a-730d0140d529",
   "metadata": {},
   "source": [
    "<h1>3. Are severe accidents linked with more vehicles?</h1>"
   ]
  },
  {
   "cell_type": "code",
   "execution_count": 16,
   "id": "0ab172af-a78a-4fa5-a7a9-1c6fb52302d0",
   "metadata": {},
   "outputs": [
    {
     "data": {
      "text/plain": [
       "Accident_Severity\n",
       "Fatal      1.786976\n",
       "Serious    1.678327\n",
       "Slight     1.855864\n",
       "Name: Number_of_Vehicles, dtype: float64"
      ]
     },
     "execution_count": 16,
     "metadata": {},
     "output_type": "execute_result"
    }
   ],
   "source": [
    "accidents.groupby(\"Accident_Severity\")['Number_of_Vehicles'].mean()"
   ]
  },
  {
   "cell_type": "markdown",
   "id": "5f5643cf-78df-431d-9710-5fca85761769",
   "metadata": {},
   "source": [
    "<h3>Insight: Fatal accidents often involve more vehicles</h3>"
   ]
  },
  {
   "cell_type": "markdown",
   "id": "db11bb83-b662-4044-ac8e-12d700572238",
   "metadata": {},
   "source": [
    "<h1>4. Which 10 districts have the highest fatal accident counts?</h1>"
   ]
  },
  {
   "cell_type": "code",
   "execution_count": 17,
   "id": "05ac7015-9066-4245-93f7-b481aef9f87a",
   "metadata": {},
   "outputs": [
    {
     "data": {
      "text/plain": [
       "District Area\n",
       "Birmingham                  105\n",
       "Leeds                        93\n",
       "Highland                     88\n",
       "East Riding of Yorkshire     85\n",
       "Bradford                     71\n",
       "Aberdeenshire                66\n",
       "Powys                        59\n",
       "Wakefield                    56\n",
       "Doncaster                    56\n",
       "Herefordshire, County of     51\n",
       "Name: count, dtype: int64"
      ]
     },
     "execution_count": 17,
     "metadata": {},
     "output_type": "execute_result"
    }
   ],
   "source": [
    "accidents[accidents[\"Accident_Severity\"] == \"Fatal\"][\"District Area\"].value_counts().head(10)"
   ]
  },
  {
   "cell_type": "markdown",
   "id": "8389c014-71b0-4d6e-932e-256ef9703b81",
   "metadata": {},
   "source": [
    "<h3>Insight: This shows which 10 district have the highest fatal accident counts. Birmingham have the highest fatal accident counts, while Hereforshire have the lowest fatal accident counts</h3>"
   ]
  },
  {
   "cell_type": "markdown",
   "id": "8aee645b-4471-47ab-ba89-0da00f3b93e4",
   "metadata": {},
   "source": [
    "<h1>5. Which 5 districts have the lowest number of accidents?</h1>"
   ]
  },
  {
   "cell_type": "code",
   "execution_count": 18,
   "id": "92547735-54ab-4c77-8a12-d3bb9dff3045",
   "metadata": {},
   "outputs": [
    {
     "data": {
      "text/plain": [
       "District Area\n",
       "Berwick-upon-Tweed    153\n",
       "Teesdale              142\n",
       "Shetland Islands      133\n",
       "Orkney Islands        117\n",
       "Clackmannanshire       91\n",
       "Name: count, dtype: int64"
      ]
     },
     "execution_count": 18,
     "metadata": {},
     "output_type": "execute_result"
    }
   ],
   "source": [
    "accidents[\"District Area\"].value_counts().tail(5)"
   ]
  },
  {
   "cell_type": "markdown",
   "id": "867e484c-4c4f-4efb-b2ba-776f225d4cc1",
   "metadata": {},
   "source": [
    "<h3>Insight: Some rural or less populated districts report the fewest accidents</h3>"
   ]
  },
  {
   "cell_type": "markdown",
   "id": "3180c5de-d921-4142-9bb7-560fbb5e3fbf",
   "metadata": {},
   "source": [
    "<h1>6. Distributions of accidents by day of the week</h1>"
   ]
  },
  {
   "cell_type": "code",
   "execution_count": 19,
   "id": "f3e84109-0fdf-48f9-9164-e1f472c326ff",
   "metadata": {},
   "outputs": [
    {
     "data": {
      "text/plain": [
       "Accident Date\n",
       "Saturday     107178\n",
       "Wednesday     99558\n",
       "Thursday      99511\n",
       "Friday        97900\n",
       "Tuesday       94550\n",
       "Sunday        89302\n",
       "Monday        72680\n",
       "Name: count, dtype: int64"
      ]
     },
     "execution_count": 19,
     "metadata": {},
     "output_type": "execute_result"
    }
   ],
   "source": [
    "accidents[\"Accident Date\"].dt.day_name().value_counts()"
   ]
  },
  {
   "cell_type": "markdown",
   "id": "ea532d86-e524-4f8b-a2ef-ddf4b864aa79",
   "metadata": {},
   "source": [
    "<h3>Insight: Weekdays, especially Friday, often have the most accidenets</h3>"
   ]
  },
  {
   "cell_type": "markdown",
   "id": "6a2ee256-f28a-46c5-8f7e-119cce0a1fbe",
   "metadata": {},
   "source": [
    "<h1>7.Which months have the most fatal accidents?</h1>"
   ]
  },
  {
   "cell_type": "code",
   "execution_count": 20,
   "id": "e9e30a77-13f2-46f2-bf12-5d206c204f8d",
   "metadata": {},
   "outputs": [
    {
     "data": {
      "text/plain": [
       "Accident Date\n",
       "1     740\n",
       "2     617\n",
       "3     681\n",
       "4     697\n",
       "5     760\n",
       "6     673\n",
       "7     753\n",
       "8     801\n",
       "9     723\n",
       "10    798\n",
       "11    747\n",
       "12    671\n",
       "Name: count, dtype: int64"
      ]
     },
     "execution_count": 20,
     "metadata": {},
     "output_type": "execute_result"
    }
   ],
   "source": [
    "accidents[accidents['Accident_Severity']=='Fatal']['Accident Date'].dt.month.value_counts().sort_index()"
   ]
  },
  {
   "cell_type": "markdown",
   "id": "1470bffb-31e7-4e7a-bf54-e9ac8c9ee7aa",
   "metadata": {},
   "source": [
    "<h3>Insight: August have the most recorded fatal accident,meanwhile February have the fewest.</h3>"
   ]
  },
  {
   "cell_type": "markdown",
   "id": "ec2d1955-9d14-4425-b00c-70bbf2b53861",
   "metadata": {},
   "source": [
    "<h1>8. Which road surface conditions caused more cars to have accidents?</h1>"
   ]
  },
  {
   "cell_type": "code",
   "execution_count": 21,
   "id": "3da7e734-ec9b-4121-ac8c-629f7f60f170",
   "metadata": {},
   "outputs": [
    {
     "data": {
      "text/plain": [
       "Road_Surface_Conditions\n",
       "Dry                     337860\n",
       "Wet or damp             140764\n",
       "Frost or ice             14108\n",
       "Snow                      4483\n",
       "Flood over 3cm. deep       777\n",
       "Name: count, dtype: int64"
      ]
     },
     "execution_count": 21,
     "metadata": {},
     "output_type": "execute_result"
    }
   ],
   "source": [
    "accidents[accidents['Vehicle_Type']==\"Car\"]['Road_Surface_Conditions'].value_counts()"
   ]
  },
  {
   "cell_type": "markdown",
   "id": "e9952020-c712-4f1f-9304-c907471aee70",
   "metadata": {},
   "source": [
    "<h3>Insights: Most accidents happened on dry roads, followed by wet roads</h3>"
   ]
  },
  {
   "cell_type": "markdown",
   "id": "ddecc743-fd45-48a7-9437-63c6d624684a",
   "metadata": {},
   "source": [
    "<h1>9. Do serious accidents involve more casualties than fatal ones (on average)?</h1>"
   ]
  },
  {
   "cell_type": "code",
   "execution_count": 22,
   "id": "d8720bcb-14db-4f68-9ff5-1b40f2a5dda0",
   "metadata": {},
   "outputs": [
    {
     "data": {
      "text/plain": [
       "Accident_Severity\n",
       "Fatal      1.903129\n",
       "Serious    1.467280\n",
       "Slight     1.331402\n",
       "Name: Number_of_Casualties, dtype: float64"
      ]
     },
     "execution_count": 22,
     "metadata": {},
     "output_type": "execute_result"
    }
   ],
   "source": [
    "accidents.groupby(\"Accident_Severity\")[\"Number_of_Casualties\"].mean()"
   ]
  },
  {
   "cell_type": "markdown",
   "id": "0f30aba2-cf81-4fc6-967e-c338a748d4f6",
   "metadata": {},
   "source": [
    "<h3>Insights: Yes, serious accidents had more people injured per crash than fatal ones</h3>"
   ]
  },
  {
   "cell_type": "markdown",
   "id": "6c597040-01c2-4944-868a-06956de9b32b",
   "metadata": {},
   "source": [
    "<h1> 10. which vehicle type has the highest average casualties per crash?</h1>"
   ]
  },
  {
   "cell_type": "code",
   "execution_count": 23,
   "id": "6d2af8b2-1fc5-43d2-bdad-175929840ccd",
   "metadata": {},
   "outputs": [
    {
     "data": {
      "text/plain": [
       "Vehicle_Type\n",
       "Data missing or out of range            1.500000\n",
       "Pedal cycle                             1.370558\n",
       "Taxi/Private hire car                   1.368663\n",
       "Goods over 3.5t. and under 7.5t         1.362861\n",
       "Motorcycle over 500cc                   1.359434\n",
       "Car                                     1.358841\n",
       "Van / Goods 3.5 tonnes mgw or under     1.354537\n",
       "Goods 7.5 tonnes mgw and over           1.351881\n",
       "Bus or coach (17 or more pass seats)    1.349216\n",
       "Minibus (8 - 16 passenger seats)        1.345648\n",
       "Name: Number_of_Casualties, dtype: float64"
      ]
     },
     "execution_count": 23,
     "metadata": {},
     "output_type": "execute_result"
    }
   ],
   "source": [
    "accidents.groupby('Vehicle_Type')['Number_of_Casualties'].mean().sort_values(ascending=False).head(10)"
   ]
  },
  {
   "cell_type": "markdown",
   "id": "4c0ec908-ed41-4e8b-a9db-bf5e6c261592",
   "metadata": {},
   "source": [
    "<h3>Insights: Buses and coaches had the highest casualties per accident, since they carry more passengers</h3>"
   ]
  },
  {
   "cell_type": "markdown",
   "id": "88004743-79e6-4dc0-9328-17c75a8c575f",
   "metadata": {},
   "source": [
    "<h1>11. How many accidents happend in each year of the dataset?</h1>"
   ]
  },
  {
   "cell_type": "code",
   "execution_count": 24,
   "id": "979ad95e-b84e-433f-a5bd-6758af9ebbd4",
   "metadata": {},
   "outputs": [
    {
     "data": {
      "text/plain": [
       "Accident Date\n",
       "2019    182115\n",
       "2020    170591\n",
       "2021    163554\n",
       "2022    144419\n",
       "Name: count, dtype: int64"
      ]
     },
     "execution_count": 24,
     "metadata": {},
     "output_type": "execute_result"
    }
   ],
   "source": [
    "accidents['Accident Date'].dt.year.value_counts().sort_index()"
   ]
  },
  {
   "cell_type": "markdown",
   "id": "dea0c2a2-ffa7-4041-9cfb-527bb91ee9b7",
   "metadata": {},
   "source": [
    "<h3>Insights: the dataset shows accidents for several years, with a general decrease over time</h3>"
   ]
  },
  {
   "cell_type": "markdown",
   "id": "89a0bc71-8a6a-44bb-86aa-f5ede5954936",
   "metadata": {},
   "source": [
    "<h1>12.Do accidents in wet road conditions cause more casualties?</h1>"
   ]
  },
  {
   "cell_type": "code",
   "execution_count": 25,
   "id": "995caf9c-e65c-49d6-8ad9-9d4594c7f9e6",
   "metadata": {},
   "outputs": [
    {
     "data": {
      "text/plain": [
       "Road_Surface_Conditions\n",
       "Dry                     1.334545\n",
       "Flood over 3cm. deep    1.495575\n",
       "Frost or ice            1.348815\n",
       "Snow                    1.359593\n",
       "Wet or damp             1.411064\n",
       "Name: Number_of_Casualties, dtype: float64"
      ]
     },
     "execution_count": 25,
     "metadata": {},
     "output_type": "execute_result"
    }
   ],
   "source": [
    "accidents.groupby('Road_Surface_Conditions')['Number_of_Casualties'].mean()"
   ]
  },
  {
   "cell_type": "markdown",
   "id": "d8eea977-3693-4497-afc9-5737f2ba5a36",
   "metadata": {},
   "source": [
    "<h3>Insight: Yes, crashes on wet roads involved slightly more casualties than on dry roads </h3>"
   ]
  },
  {
   "cell_type": "markdown",
   "id": "09bfaf51-449b-4fb5-8468-13f119bed2a1",
   "metadata": {},
   "source": [
    "<h1>13. Percentage of accidents that are \"Fatal\"</h1>"
   ]
  },
  {
   "cell_type": "code",
   "execution_count": 26,
   "id": "2fc07857-a282-49d8-bfb8-4362585c3a63",
   "metadata": {},
   "outputs": [
    {
     "data": {
      "text/plain": [
       "np.float64(1.3109240644851736)"
      ]
     },
     "execution_count": 26,
     "metadata": {},
     "output_type": "execute_result"
    }
   ],
   "source": [
    "(accidents['Accident_Severity']=='Fatal').mean() *100"
   ]
  },
  {
   "cell_type": "markdown",
   "id": "1b5e9ec4-2dbe-4858-ad53-9e341025cdee",
   "metadata": {},
   "source": [
    "<h3>Insight: About 1.3% of all accidents were fatal</h3>"
   ]
  },
  {
   "cell_type": "markdown",
   "id": "f4ab6502-8f53-4817-9c5b-92eaf5538f0e",
   "metadata": {},
   "source": [
    "<h1>14. which day of the week have the most fatal accident recorded</h1>"
   ]
  },
  {
   "cell_type": "code",
   "execution_count": 27,
   "id": "b360c94a-776b-4c89-8e48-24571288ce48",
   "metadata": {},
   "outputs": [
    {
     "data": {
      "text/plain": [
       "Accident Date\n",
       "0    1385\n",
       "1    1105\n",
       "2    1113\n",
       "3    1097\n",
       "4    1113\n",
       "5    1326\n",
       "6    1522\n",
       "Name: count, dtype: int64"
      ]
     },
     "execution_count": 27,
     "metadata": {},
     "output_type": "execute_result"
    }
   ],
   "source": [
    "accidents[accidents['Accident_Severity']=='Fatal']['Accident Date'].dt.dayofweek.value_counts().sort_index()"
   ]
  },
  {
   "cell_type": "markdown",
   "id": "4384a77a-a651-4a05-9dad-8941d63dbbc3",
   "metadata": {},
   "source": [
    "<h3>Insight: Saturday had the most fatal crashes, followed by Friday</h3>"
   ]
  },
  {
   "cell_type": "markdown",
   "id": "375bb324-ac12-45d7-b5b7-09da76ac9399",
   "metadata": {},
   "source": [
    "<h1>15. How many accidents had more than 3 casualties?</h1>"
   ]
  },
  {
   "cell_type": "code",
   "execution_count": 28,
   "id": "8535a0fa-d4bf-4b71-9e2b-e0d0a2bd7589",
   "metadata": {},
   "outputs": [
    {
     "data": {
      "text/plain": [
       "np.int64(17891)"
      ]
     },
     "execution_count": 28,
     "metadata": {},
     "output_type": "execute_result"
    }
   ],
   "source": [
    "(accidents['Number_of_Casualties']>3).sum()"
   ]
  },
  {
   "cell_type": "markdown",
   "id": "6ec88aec-57a2-4b29-a4cf-c5a7366b5c9c",
   "metadata": {},
   "source": [
    "<h3>Insight: There were 17891 accidents with more than 3 casualties</h3>"
   ]
  },
  {
   "cell_type": "markdown",
   "id": "ac677454-6aaa-4ec7-b7e2-b4ae759bc2e4",
   "metadata": {},
   "source": [
    "<h1>16. Average number of vehicles by accident severity and road type</h1>"
   ]
  },
  {
   "cell_type": "code",
   "execution_count": 29,
   "id": "e2726a58-40fa-4964-90a4-2607320a2dbd",
   "metadata": {},
   "outputs": [
    {
     "data": {
      "text/plain": [
       "Accident_Severity  Road_Type         \n",
       "Fatal              Dual carriageway      1.932231\n",
       "                   One way street        1.357895\n",
       "                   Roundabout            1.549296\n",
       "                   Single carriageway    1.759756\n",
       "                   Slip road             1.571429\n",
       "Serious            Dual carriageway      1.819428\n",
       "                   One way street        1.389728\n",
       "                   Roundabout            1.715689\n",
       "                   Single carriageway    1.660009\n",
       "                   Slip road             1.638298\n",
       "Slight             Dual carriageway      2.037443\n",
       "                   One way street        1.614701\n",
       "                   Roundabout            1.919497\n",
       "                   Single carriageway    1.818013\n",
       "                   Slip road             1.946874\n",
       "Name: Number_of_Vehicles, dtype: float64"
      ]
     },
     "execution_count": 29,
     "metadata": {},
     "output_type": "execute_result"
    }
   ],
   "source": [
    "accidents.groupby(['Accident_Severity', 'Road_Type'])['Number_of_Vehicles'].mean()"
   ]
  },
  {
   "cell_type": "markdown",
   "id": "bf6f975a-5446-41f1-9c65-86648bbf4486",
   "metadata": {},
   "source": [
    "<h3>Insights: Fatal accidents on highways involved more vehicles than slight accidents on local roads</h3>"
   ]
  },
  {
   "cell_type": "markdown",
   "id": "1135d077-9fe2-464b-8b3e-e382a6c8c4ef",
   "metadata": {},
   "source": [
    "<h1>17. Do multi-vehicle accidents lead to more casualties on average?</h1>"
   ]
  },
  {
   "cell_type": "code",
   "execution_count": 30,
   "id": "ba92c62c-faf4-417b-b708-fb524e1744bb",
   "metadata": {},
   "outputs": [
    {
     "data": {
      "text/plain": [
       "Number_of_Vehicles\n",
       "False    1.305799\n",
       "True     1.804410\n",
       "Name: Number_of_Casualties, dtype: float64"
      ]
     },
     "execution_count": 30,
     "metadata": {},
     "output_type": "execute_result"
    }
   ],
   "source": [
    "accidents.groupby(accidents[\"Number_of_Vehicles\"] > 2) [\"Number_of_Casualties\"].mean()"
   ]
  },
  {
   "cell_type": "markdown",
   "id": "d7571b00-e068-4374-b6ec-7af652369646",
   "metadata": {},
   "source": [
    "<h3>Insight: Yes, accidents with more than 2 vehicles caused more injuries on average</h3>"
   ]
  },
  {
   "cell_type": "markdown",
   "id": "b7d3d1d6-82d0-40fe-ac30-fd5512cfdd65",
   "metadata": {},
   "source": [
    "<h1>18. Top 5 vehicle types most often in fatal accidents</h1>"
   ]
  },
  {
   "cell_type": "code",
   "execution_count": 31,
   "id": "d8a9782c-4c26-440b-9e4a-70bd412a8669",
   "metadata": {},
   "outputs": [
    {
     "data": {
      "text/plain": [
       "Vehicle_Type\n",
       "Car                                     6577\n",
       "Van / Goods 3.5 tonnes mgw or under      467\n",
       "Motorcycle over 500cc                    339\n",
       "Bus or coach (17 or more pass seats)     325\n",
       "Goods 7.5 tonnes mgw and over            216\n",
       "Name: count, dtype: int64"
      ]
     },
     "execution_count": 31,
     "metadata": {},
     "output_type": "execute_result"
    }
   ],
   "source": [
    "accidents[accidents[\"Accident_Severity\"]=='Fatal'][\"Vehicle_Type\"].value_counts().head(5)"
   ]
  },
  {
   "cell_type": "markdown",
   "id": "32796794-80cf-40fc-b7a7-72598b94ae87",
   "metadata": {},
   "source": [
    "<h3>Insights:The top vehicles in fatal accidents were: Cars, Motorcycle, Vans, Trucks and Buses </h3>"
   ]
  },
  {
   "cell_type": "markdown",
   "id": "2d32f533-2541-49f6-a43c-7b99aed1f665",
   "metadata": {},
   "source": [
    "<h1>19. Which weather condition has the highest average casualties per accident?</h1>"
   ]
  },
  {
   "cell_type": "code",
   "execution_count": 32,
   "id": "808d7e94-c5e1-4f98-8e7a-baaac8251705",
   "metadata": {},
   "outputs": [
    {
     "data": {
      "text/plain": [
       "Weather_Conditions\n",
       "Fog or mist              1.452948\n",
       "Snowing + high winds     1.418079\n",
       "Raining + high winds     1.416641\n",
       "Raining no high winds    1.408214\n",
       "Fine + high winds        1.386018\n",
       "Other                    1.354869\n",
       "Fine no high winds       1.347397\n",
       "Snowing no high winds    1.341776\n",
       "Name: Number_of_Casualties, dtype: float64"
      ]
     },
     "execution_count": 32,
     "metadata": {},
     "output_type": "execute_result"
    }
   ],
   "source": [
    "accidents.groupby(\"Weather_Conditions\")['Number_of_Casualties'].mean().sort_values(ascending=False).head(10)"
   ]
  },
  {
   "cell_type": "markdown",
   "id": "bb63865c-71d5-4e59-931e-99b0882084a9",
   "metadata": {},
   "source": [
    "<h3>Insight: Foggy conditions and heavy rain showed the highest casualties per crash</h3>"
   ]
  },
  {
   "cell_type": "markdown",
   "id": "3b115747-5cff-44ff-b245-fe358812c235",
   "metadata": {},
   "source": [
    "<h1>20. Are accidents with missing road type data more or less severe?</h1>"
   ]
  },
  {
   "cell_type": "code",
   "execution_count": 33,
   "id": "4cfa7795-26bf-42f2-8e2c-5c20656e96c2",
   "metadata": {},
   "outputs": [
    {
     "data": {
      "text/plain": [
       "Road_Type  Accident_Severity\n",
       "False      Slight               0.853366\n",
       "           Serious              0.133525\n",
       "           Fatal                0.013109\n",
       "Name: proportion, dtype: float64"
      ]
     },
     "execution_count": 33,
     "metadata": {},
     "output_type": "execute_result"
    }
   ],
   "source": [
    "accidents.groupby(accidents[\"Road_Type\"].isna())['Accident_Severity'].value_counts(normalize=True)"
   ]
  },
  {
   "cell_type": "markdown",
   "id": "7b8ad8c1-d79d-4ad8-bc07-6d48faa28a9e",
   "metadata": {},
   "source": [
    "<h3>Insight: Most accidents with missing road type were slight, so they are less severe</h3>"
   ]
  },
  {
   "cell_type": "markdown",
   "id": "cca0a24d-cc78-437f-b4d5-5e7200132de2",
   "metadata": {},
   "source": [
    "<h1> 21. Which 10 district have the highest average casualties per accident?</h1>"
   ]
  },
  {
   "cell_type": "code",
   "execution_count": 34,
   "id": "d68a59e6-967d-4cad-a8c7-c934b3e1481f",
   "metadata": {},
   "outputs": [
    {
     "data": {
      "text/plain": [
       "District Area\n",
       "Blaeu Gwent          1.693694\n",
       "West Somerset        1.613990\n",
       "Derwentside          1.606186\n",
       "Chester-le-Street    1.603306\n",
       "Durham               1.580431\n",
       "Blaenau Gwent        1.579310\n",
       "Fylde                1.569350\n",
       "Hambleton            1.568523\n",
       "Merthyr Tydfil       1.568182\n",
       "West Lancashire      1.566341\n",
       "Name: Number_of_Casualties, dtype: float64"
      ]
     },
     "execution_count": 34,
     "metadata": {},
     "output_type": "execute_result"
    }
   ],
   "source": [
    "accidents.groupby(\"District Area\")['Number_of_Casualties'].mean().sort_values(ascending=False).head(10)"
   ]
  },
  {
   "cell_type": "markdown",
   "id": "9f7ac278-c819-4872-8e68-943a8d20386e",
   "metadata": {},
   "source": [
    "<h3>Insight: The highest averages came from busy districts with dense traffic</h3>"
   ]
  },
  {
   "cell_type": "markdown",
   "id": "6857bcaa-5ea6-4384-9c0b-5c42b87f6f57",
   "metadata": {},
   "source": [
    "<h1>22. How many accidents happened on each day of the month?</h1>"
   ]
  },
  {
   "cell_type": "code",
   "execution_count": 35,
   "id": "dc9a3073-a5d6-4ec3-8e03-499f6f7c3097",
   "metadata": {},
   "outputs": [
    {
     "data": {
      "text/plain": [
       "Accident Date\n",
       "1     22606\n",
       "2     21815\n",
       "3     21540\n",
       "4     21699\n",
       "5     22409\n",
       "6     21974\n",
       "7     21431\n",
       "8     21914\n",
       "9     22252\n",
       "10    22328\n",
       "11    22503\n",
       "12    22536\n",
       "13    21816\n",
       "14    21474\n",
       "15    21818\n",
       "16    21972\n",
       "17    22117\n",
       "18    21719\n",
       "19    21956\n",
       "20    21838\n",
       "21    21641\n",
       "22    21634\n",
       "23    21997\n",
       "24    21301\n",
       "25    19949\n",
       "26    21168\n",
       "27    21038\n",
       "28    20707\n",
       "29    20138\n",
       "30    19573\n",
       "31    11816\n",
       "Name: count, dtype: int64"
      ]
     },
     "execution_count": 35,
     "metadata": {},
     "output_type": "execute_result"
    }
   ],
   "source": [
    "accidents[\"Accident Date\"].dt.day.value_counts().sort_index()"
   ]
  },
  {
   "cell_type": "markdown",
   "id": "fa28826a-8d04-46e4-908a-6a1341f27b46",
   "metadata": {},
   "source": [
    "<h3>Insight: Accidents are spread across all days, with slight peaks mid-month</h3>"
   ]
  },
  {
   "cell_type": "markdown",
   "id": "bf877e65-c57c-4c1e-b799-5ae87cd5ea01",
   "metadata": {},
   "source": [
    "<h1>23. Compare the average casualties between day and night</h1>"
   ]
  },
  {
   "cell_type": "code",
   "execution_count": 36,
   "id": "c60551dc-84f9-472c-a529-19f01a9420c2",
   "metadata": {},
   "outputs": [
    {
     "data": {
      "text/plain": [
       "Light_Conditions\n",
       "False    1.403188\n",
       "True     1.340309\n",
       "Name: Number_of_Casualties, dtype: float64"
      ]
     },
     "execution_count": 36,
     "metadata": {},
     "output_type": "execute_result"
    }
   ],
   "source": [
    "accidents.groupby(accidents['Light_Conditions'].str.contains(\"Daylight\"))[\"Number_of_Casualties\"].mean()"
   ]
  },
  {
   "cell_type": "markdown",
   "id": "1d30f3e1-b47f-4dec-acdf-a50dd47969b9",
   "metadata": {},
   "source": [
    "<h3>Insight: Night accidents had higher casualties than day accidents</h3>"
   ]
  },
  {
   "cell_type": "markdown",
   "id": "fb302519-4219-4936-bd74-12cae8554206",
   "metadata": {},
   "source": [
    "<h1>24. Which district has the lowest accident density(accidents per year)?</h1>"
   ]
  },
  {
   "cell_type": "code",
   "execution_count": 37,
   "id": "7b3b6de0-a12b-4708-abd0-ff4f998ce26c",
   "metadata": {},
   "outputs": [
    {
     "data": {
      "text/plain": [
       "District Area\n",
       "Birmingham            3372.750000\n",
       "Leeds                 2224.500000\n",
       "Manchester            1680.000000\n",
       "Glasgow City          1647.333333\n",
       "Bradford              1553.000000\n",
       "Sheffield             1427.500000\n",
       "Westminster           1426.500000\n",
       "Liverpool             1396.750000\n",
       "Cornwall              1303.000000\n",
       "Edinburgh, City of    1274.666667\n",
       "dtype: float64"
      ]
     },
     "execution_count": 37,
     "metadata": {},
     "output_type": "execute_result"
    }
   ],
   "source": [
    "accidents.groupby([\"District Area\",accidents[\"Accident Date\"].dt.year]).size().groupby('District Area').mean().sort_values(ascending=False).head(10)"
   ]
  },
  {
   "cell_type": "markdown",
   "id": "fa4a39c4-f146-4c99-98b4-0d1ad0f57732",
   "metadata": {},
   "source": [
    "<h3>Insight: This shows that the district of Edinburgh has the lowest accident density per year</h3>"
   ]
  },
  {
   "cell_type": "markdown",
   "id": "5f1dc7a5-56d2-4b72-bf58-31946664a6d2",
   "metadata": {},
   "source": [
    "<h1>25. What percentage of accidents happen in darknesss(all types)? </h1>"
   ]
  },
  {
   "cell_type": "code",
   "execution_count": 38,
   "id": "2731f58a-bb26-4585-9ecb-b75cd12ae922",
   "metadata": {},
   "outputs": [
    {
     "data": {
      "text/plain": [
       "np.float64(26.60883727195809)"
      ]
     },
     "execution_count": 38,
     "metadata": {},
     "output_type": "execute_result"
    }
   ],
   "source": [
    "accidents[\"Light_Conditions\"].str.contains(\"Darkness\").mean()*100"
   ]
  },
  {
   "cell_type": "markdown",
   "id": "db0e4d49-4e2e-4f0f-8594-2957c6a9aab1",
   "metadata": {},
   "source": [
    "<h3>Insight: About 26.6% of accidents happened in darkness (with or w/o street lights)</h3>"
   ]
  }
 ],
 "metadata": {
  "kernelspec": {
   "display_name": "Python 3 (ipykernel)",
   "language": "python",
   "name": "python3"
  },
  "language_info": {
   "codemirror_mode": {
    "name": "ipython",
    "version": 3
   },
   "file_extension": ".py",
   "mimetype": "text/x-python",
   "name": "python",
   "nbconvert_exporter": "python",
   "pygments_lexer": "ipython3",
   "version": "3.11.8"
  }
 },
 "nbformat": 4,
 "nbformat_minor": 5
}
